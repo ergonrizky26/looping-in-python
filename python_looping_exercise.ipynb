{
  "nbformat": 4,
  "nbformat_minor": 0,
  "metadata": {
    "colab": {
      "provenance": [],
      "authorship_tag": "ABX9TyNP9p1cPcm1YdvnujX0I/J1",
      "include_colab_link": true
    },
    "kernelspec": {
      "name": "python3",
      "display_name": "Python 3"
    },
    "language_info": {
      "name": "python"
    }
  },
  "cells": [
    {
      "cell_type": "markdown",
      "metadata": {
        "id": "view-in-github",
        "colab_type": "text"
      },
      "source": [
        "<a href=\"https://colab.research.google.com/github/ergonrizky26/looping-in-python/blob/main/python_looping_exercise.ipynb\" target=\"_parent\"><img src=\"https://colab.research.google.com/assets/colab-badge.svg\" alt=\"Open In Colab\"/></a>"
      ]
    },
    {
      "cell_type": "markdown",
      "source": [
        "## Looping"
      ],
      "metadata": {
        "id": "RZdwHb3tn8U3"
      }
    },
    {
      "cell_type": "code",
      "execution_count": 1,
      "metadata": {
        "colab": {
          "base_uri": "https://localhost:8080/"
        },
        "id": "DhOwxTxXnx8x",
        "outputId": "7695570a-7222-41c4-a88d-7862cd5c8793"
      },
      "outputs": [
        {
          "output_type": "stream",
          "name": "stdout",
          "text": [
            "1\n",
            "2\n",
            "3\n",
            "4\n"
          ]
        }
      ],
      "source": [
        "print(1)\n",
        "print(2)\n",
        "print(3)\n",
        "print(4)\n",
        "\n",
        "# for looping? "
      ]
    },
    {
      "cell_type": "code",
      "source": [
        "# for variabel in variabel \n",
        "\n",
        "for i in range(4):\n",
        "  print(i+1)"
      ],
      "metadata": {
        "colab": {
          "base_uri": "https://localhost:8080/"
        },
        "id": "EVHo8_eooFXN",
        "outputId": "d2905dd5-4612-451e-a909-f09b10d18ae3"
      },
      "execution_count": 3,
      "outputs": [
        {
          "output_type": "stream",
          "name": "stdout",
          "text": [
            "1\n",
            "2\n",
            "3\n",
            "4\n"
          ]
        }
      ]
    },
    {
      "cell_type": "code",
      "source": [
        "# list, tupple\n",
        "\n",
        "# list\n",
        "angka = [1, 2, 3, 4]\n",
        "\n",
        "# tupple\n",
        "b = (1, 2, 3, 4)"
      ],
      "metadata": {
        "id": "Eg4yj3ddoMvm"
      },
      "execution_count": 10,
      "outputs": []
    },
    {
      "cell_type": "code",
      "source": [
        "# cara biasa \n",
        "\n",
        "print(angka[0])\n",
        "print(angka[1])\n",
        "print(angka[2])\n",
        "print(angka[3])"
      ],
      "metadata": {
        "colab": {
          "base_uri": "https://localhost:8080/"
        },
        "id": "oW7mn_DfpAPq",
        "outputId": "9e441cbe-839c-4b9c-c1cc-5efb08df519e"
      },
      "execution_count": 12,
      "outputs": [
        {
          "output_type": "stream",
          "name": "stdout",
          "text": [
            "1\n",
            "2\n",
            "3\n",
            "4\n"
          ]
        }
      ]
    },
    {
      "cell_type": "code",
      "source": [
        "# for loop \n",
        "\n",
        "for i in angka:\n",
        "  print(i)\n"
      ],
      "metadata": {
        "colab": {
          "base_uri": "https://localhost:8080/"
        },
        "id": "178WBj-qqRmW",
        "outputId": "65caa230-105b-4d5d-aafe-d6734b07cd77"
      },
      "execution_count": 13,
      "outputs": [
        {
          "output_type": "stream",
          "name": "stdout",
          "text": [
            "1\n",
            "2\n",
            "3\n",
            "4\n"
          ]
        }
      ]
    },
    {
      "cell_type": "markdown",
      "source": [
        "### Enumerate()"
      ],
      "metadata": {
        "id": "NvK6kyKYqrLZ"
      }
    },
    {
      "cell_type": "markdown",
      "source": [
        "**Enumerate()** memungkinkan kita untuk melakukan loop terhadap suatu object semacam list disertai dengan pengambilan index dari setiap elemennya"
      ],
      "metadata": {
        "id": "-fK8-360quQH"
      }
    },
    {
      "cell_type": "code",
      "source": [
        "areas = [11.25, 18.0, 20.0, 10.75, 9.50]\n",
        "\n",
        "# for i in areas:\n",
        "#   print(i)\n",
        "\n",
        "for index, area in enumerate(areas):\n",
        "  print(index)"
      ],
      "metadata": {
        "colab": {
          "base_uri": "https://localhost:8080/"
        },
        "id": "VbdWGazvqelg",
        "outputId": "8d15f2c3-41ed-400c-bb09-8968c9c314d9"
      },
      "execution_count": 15,
      "outputs": [
        {
          "output_type": "stream",
          "name": "stdout",
          "text": [
            "0\n",
            "1\n",
            "2\n",
            "3\n",
            "4\n"
          ]
        }
      ]
    },
    {
      "cell_type": "code",
      "source": [],
      "metadata": {
        "id": "sYfRrBgTsCID"
      },
      "execution_count": null,
      "outputs": []
    }
  ]
}